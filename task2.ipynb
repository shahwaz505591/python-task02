{
 "cells": [
  {
   "cell_type": "code",
   "execution_count": null,
   "id": "4e754905-ca9e-41f6-b835-0002acbc8175",
   "metadata": {},
   "outputs": [],
   "source": [
    "Q1. You are writing code for a company. The requirement of the company is that you create a python\n",
    "function that will check whether the password entered by the user is correct or not. The function should\n",
    "take the password as input and return the string “Valid Password” if the entered password follows the\n",
    "below-given password guidelines else it should return “Invalid Password”.\n",
    "Note: 1. The Password should contain at least two uppercase letters and at least two lowercase letters.\n",
    "2. The Password should contain at least a number and three special characters.\n",
    "3. The length of the password should be 10 characters long.\n",
    "\n",
    "\n",
    "Ans:import re\n",
    "\n",
    "def check_password(password):\n",
    "    # Check if the password contains at least two uppercase letters and two lowercase letters.\n",
    "    if not re.search(r'[A-Z].*[A-Z]', password) or not re.search(r'[a-z].*[a-z]', password):\n",
    "        return \"Invalid Password\"\n",
    "    \n",
    "    # Check if the password contains at least one number and three special characters.\n",
    "    if not re.search(r'\\d', password) or len(re.findall(r'[!@#$%^&*()-_=+{};:,.<>?/|\\\\]', password)) < 3:\n",
    "        return \"Invalid Password\"\n",
    "    \n",
    "    # Check if the password length is exactly 10 characters.\n",
    "    if len(password) != 10:\n",
    "        return \"Invalid Password\"\n",
    "    \n",
    "    return \"Valid Password\"\n",
    "\n",
    "# Test the function with some examples\n",
    "print(check_password(\"Abcdef123#\"))  # Output: Valid Password\n",
    "print(check_password(\"abcDEF123#\"))  # Output: Valid Password\n",
    "print(check_password(\"abcdefghij\"))  # Output: Invalid Password\n",
    "print(check_password(\"Abcdef12345\"))  # Output: Invalid Password\n",
    "\n",
    "    "
   ]
  },
  {
   "cell_type": "code",
   "execution_count": 1,
   "id": "4b3d9e79-6a88-4f64-b026-2e1811f385fa",
   "metadata": {},
   "outputs": [
    {
     "ename": "SyntaxError",
     "evalue": "invalid decimal literal (3971065717.py, line 9)",
     "output_type": "error",
     "traceback": [
      "\u001b[0;36m  Cell \u001b[0;32mIn[1], line 9\u001b[0;36m\u001b[0m\n\u001b[0;31m    B Find the squares of numbers from 1 to 10Y\u001b[0m\n\u001b[0m                                             ^\u001b[0m\n\u001b[0;31mSyntaxError\u001b[0m\u001b[0;31m:\u001b[0m invalid decimal literal\n"
     ]
    }
   ],
   "source": [
    "Q2. Solve the below-given questions using at least one of the following:\n",
    "1. Lambda functioJ\n",
    "2. Filter functioJ\n",
    "3. map functioJ\n",
    "4. List ComprehensioI\n",
    "B Check if the string starts with a particular letter.\n",
    "Ans:\n",
    "    \n",
    "B Check if the string is numeric.\n",
    "\n",
    "Ans:def starts_with_letter(strings_list, letter):\n",
    "    return [s for s in strings_list if s.startswith(letter)]\n",
    "\n",
    "# Example:\n",
    "words_list = [\"apple\", \"banana\", \"orange\", \"grapes\", \"kiwi\"]\n",
    "result = starts_with_letter(words_list, \"b\")\n",
    "print(result)  # Output: ['banana']\n",
    "\n",
    "\n",
    "    B Sort a list of tuples having fruit names and their quantity. [(\"mango\",99),(\"orange\",80), (\"grapes\", 1000)-\n",
    "Ans:\n",
    "                                                                \n",
    "B Find the squares of numbers from 1 to 10.\n",
    "\n",
    "Ansb:l=[1,2,3,4,5,6,7,8,9,10]\n",
    "list(map(lambda x:x**2,l))                                                 \n",
    "\n",
    "B Find the cube root of numbers from 1 to 10.\n",
    "\n",
    "                        Ansb:l=[1,2,3,4,5,6,7,8,9,10]\n",
    "list(map(lambda x:x**3,l))  \n",
    "\n",
    "                                                                \n",
    "B Check if a given number is even.\n",
    " Ans: num=input()\n",
    "    if num%2==0:\n",
    "                print(this number is even)\n",
    "    else:\n",
    "                print(this number is not even)\n",
    "B Filter odd numbers from the given list.\n",
    "[1,2,3,4,5,6,7,8,9,10-]\n",
    "Ans:for i in l                                                                \n",
    "B Sort a list of integers into positive and negative integers lists.\n",
    "[1,2,3,4,5,6,-1,-2,-3,-4,-5,0]"
   ]
  },
  {
   "cell_type": "code",
   "execution_count": null,
   "id": "8c2c74c3-891c-4a2b-81e0-c65d625f876a",
   "metadata": {},
   "outputs": [],
   "source": []
  }
 ],
 "metadata": {
  "kernelspec": {
   "display_name": "Python 3 (ipykernel)",
   "language": "python",
   "name": "python3"
  },
  "language_info": {
   "codemirror_mode": {
    "name": "ipython",
    "version": 3
   },
   "file_extension": ".py",
   "mimetype": "text/x-python",
   "name": "python",
   "nbconvert_exporter": "python",
   "pygments_lexer": "ipython3",
   "version": "3.10.8"
  }
 },
 "nbformat": 4,
 "nbformat_minor": 5
}
